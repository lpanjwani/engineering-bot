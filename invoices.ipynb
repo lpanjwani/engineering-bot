{
 "cells": [
  {
   "cell_type": "code",
   "execution_count": 1,
   "metadata": {},
   "outputs": [
    {
     "name": "stdout",
     "output_type": "stream",
     "text": [
      "Requirement already satisfied: langchain==0.0.333 in /Users/lavesh/anaconda3/envs/invoicing/lib/python3.10/site-packages (from -r requirements.txt (line 1)) (0.0.333)\n",
      "Requirement already satisfied: pypdf==3.17.0 in /Users/lavesh/anaconda3/envs/invoicing/lib/python3.10/site-packages (from -r requirements.txt (line 2)) (3.17.0)\n",
      "Requirement already satisfied: chromadb==0.4.16 in /Users/lavesh/anaconda3/envs/invoicing/lib/python3.10/site-packages (from -r requirements.txt (line 3)) (0.4.16)\n",
      "Requirement already satisfied: sentence-transformers==2.2.2 in /Users/lavesh/anaconda3/envs/invoicing/lib/python3.10/site-packages (from -r requirements.txt (line 4)) (2.2.2)\n",
      "Requirement already satisfied: openai==1.2.2 in /Users/lavesh/anaconda3/envs/invoicing/lib/python3.10/site-packages (from -r requirements.txt (line 5)) (1.2.2)\n",
      "Requirement already satisfied: python-dotenv==1.0.0 in /Users/lavesh/anaconda3/envs/invoicing/lib/python3.10/site-packages (from -r requirements.txt (line 6)) (1.0.0)\n",
      "Requirement already satisfied: PyYAML>=5.3 in /Users/lavesh/anaconda3/envs/invoicing/lib/python3.10/site-packages (from langchain==0.0.333->-r requirements.txt (line 1)) (6.0.1)\n",
      "Requirement already satisfied: SQLAlchemy<3,>=1.4 in /Users/lavesh/anaconda3/envs/invoicing/lib/python3.10/site-packages (from langchain==0.0.333->-r requirements.txt (line 1)) (2.0.23)\n",
      "Requirement already satisfied: aiohttp<4.0.0,>=3.8.3 in /Users/lavesh/anaconda3/envs/invoicing/lib/python3.10/site-packages (from langchain==0.0.333->-r requirements.txt (line 1)) (3.8.6)\n",
      "Requirement already satisfied: anyio<4.0 in /Users/lavesh/anaconda3/envs/invoicing/lib/python3.10/site-packages (from langchain==0.0.333->-r requirements.txt (line 1)) (3.7.1)\n",
      "Requirement already satisfied: async-timeout<5.0.0,>=4.0.0 in /Users/lavesh/anaconda3/envs/invoicing/lib/python3.10/site-packages (from langchain==0.0.333->-r requirements.txt (line 1)) (4.0.3)\n",
      "Requirement already satisfied: dataclasses-json<0.7,>=0.5.7 in /Users/lavesh/anaconda3/envs/invoicing/lib/python3.10/site-packages (from langchain==0.0.333->-r requirements.txt (line 1)) (0.6.2)\n",
      "Requirement already satisfied: jsonpatch<2.0,>=1.33 in /Users/lavesh/anaconda3/envs/invoicing/lib/python3.10/site-packages (from langchain==0.0.333->-r requirements.txt (line 1)) (1.33)\n",
      "Requirement already satisfied: langsmith<0.1.0,>=0.0.62 in /Users/lavesh/anaconda3/envs/invoicing/lib/python3.10/site-packages (from langchain==0.0.333->-r requirements.txt (line 1)) (0.0.63)\n",
      "Requirement already satisfied: numpy<2,>=1 in /Users/lavesh/anaconda3/envs/invoicing/lib/python3.10/site-packages (from langchain==0.0.333->-r requirements.txt (line 1)) (1.26.1)\n",
      "Requirement already satisfied: pydantic<3,>=1 in /Users/lavesh/anaconda3/envs/invoicing/lib/python3.10/site-packages (from langchain==0.0.333->-r requirements.txt (line 1)) (2.4.2)\n",
      "Requirement already satisfied: requests<3,>=2 in /Users/lavesh/anaconda3/envs/invoicing/lib/python3.10/site-packages (from langchain==0.0.333->-r requirements.txt (line 1)) (2.31.0)\n",
      "Requirement already satisfied: tenacity<9.0.0,>=8.1.0 in /Users/lavesh/anaconda3/envs/invoicing/lib/python3.10/site-packages (from langchain==0.0.333->-r requirements.txt (line 1)) (8.2.3)\n",
      "Requirement already satisfied: chroma-hnswlib==0.7.3 in /Users/lavesh/anaconda3/envs/invoicing/lib/python3.10/site-packages (from chromadb==0.4.16->-r requirements.txt (line 3)) (0.7.3)\n",
      "Requirement already satisfied: fastapi>=0.95.2 in /Users/lavesh/anaconda3/envs/invoicing/lib/python3.10/site-packages (from chromadb==0.4.16->-r requirements.txt (line 3)) (0.104.1)\n",
      "Requirement already satisfied: uvicorn>=0.18.3 in /Users/lavesh/anaconda3/envs/invoicing/lib/python3.10/site-packages (from uvicorn[standard]>=0.18.3->chromadb==0.4.16->-r requirements.txt (line 3)) (0.24.0.post1)\n",
      "Requirement already satisfied: posthog>=2.4.0 in /Users/lavesh/anaconda3/envs/invoicing/lib/python3.10/site-packages (from chromadb==0.4.16->-r requirements.txt (line 3)) (3.0.2)\n",
      "Requirement already satisfied: typing-extensions>=4.5.0 in /Users/lavesh/anaconda3/envs/invoicing/lib/python3.10/site-packages (from chromadb==0.4.16->-r requirements.txt (line 3)) (4.8.0)\n",
      "Requirement already satisfied: pulsar-client>=3.1.0 in /Users/lavesh/anaconda3/envs/invoicing/lib/python3.10/site-packages (from chromadb==0.4.16->-r requirements.txt (line 3)) (3.3.0)\n",
      "Requirement already satisfied: onnxruntime>=1.14.1 in /Users/lavesh/anaconda3/envs/invoicing/lib/python3.10/site-packages (from chromadb==0.4.16->-r requirements.txt (line 3)) (1.16.2)\n",
      "Requirement already satisfied: opentelemetry-api>=1.2.0 in /Users/lavesh/anaconda3/envs/invoicing/lib/python3.10/site-packages (from chromadb==0.4.16->-r requirements.txt (line 3)) (1.21.0)\n",
      "Requirement already satisfied: opentelemetry-exporter-otlp-proto-grpc>=1.2.0 in /Users/lavesh/anaconda3/envs/invoicing/lib/python3.10/site-packages (from chromadb==0.4.16->-r requirements.txt (line 3)) (1.21.0)\n",
      "Requirement already satisfied: opentelemetry-sdk>=1.2.0 in /Users/lavesh/anaconda3/envs/invoicing/lib/python3.10/site-packages (from chromadb==0.4.16->-r requirements.txt (line 3)) (1.21.0)\n",
      "Requirement already satisfied: tokenizers>=0.13.2 in /Users/lavesh/anaconda3/envs/invoicing/lib/python3.10/site-packages (from chromadb==0.4.16->-r requirements.txt (line 3)) (0.14.1)\n",
      "Requirement already satisfied: pypika>=0.48.9 in /Users/lavesh/anaconda3/envs/invoicing/lib/python3.10/site-packages (from chromadb==0.4.16->-r requirements.txt (line 3)) (0.48.9)\n",
      "Requirement already satisfied: tqdm>=4.65.0 in /Users/lavesh/anaconda3/envs/invoicing/lib/python3.10/site-packages (from chromadb==0.4.16->-r requirements.txt (line 3)) (4.66.1)\n",
      "Requirement already satisfied: overrides>=7.3.1 in /Users/lavesh/anaconda3/envs/invoicing/lib/python3.10/site-packages (from chromadb==0.4.16->-r requirements.txt (line 3)) (7.4.0)\n",
      "Requirement already satisfied: importlib-resources in /Users/lavesh/anaconda3/envs/invoicing/lib/python3.10/site-packages (from chromadb==0.4.16->-r requirements.txt (line 3)) (6.1.1)\n",
      "Requirement already satisfied: grpcio>=1.58.0 in /Users/lavesh/anaconda3/envs/invoicing/lib/python3.10/site-packages (from chromadb==0.4.16->-r requirements.txt (line 3)) (1.59.2)\n",
      "Requirement already satisfied: bcrypt>=4.0.1 in /Users/lavesh/anaconda3/envs/invoicing/lib/python3.10/site-packages (from chromadb==0.4.16->-r requirements.txt (line 3)) (4.0.1)\n",
      "Requirement already satisfied: typer>=0.9.0 in /Users/lavesh/anaconda3/envs/invoicing/lib/python3.10/site-packages (from chromadb==0.4.16->-r requirements.txt (line 3)) (0.9.0)\n",
      "Requirement already satisfied: kubernetes>=28.1.0 in /Users/lavesh/anaconda3/envs/invoicing/lib/python3.10/site-packages (from chromadb==0.4.16->-r requirements.txt (line 3)) (28.1.0)\n",
      "Requirement already satisfied: transformers<5.0.0,>=4.6.0 in /Users/lavesh/anaconda3/envs/invoicing/lib/python3.10/site-packages (from sentence-transformers==2.2.2->-r requirements.txt (line 4)) (4.35.0)\n",
      "Requirement already satisfied: torch>=1.6.0 in /Users/lavesh/anaconda3/envs/invoicing/lib/python3.10/site-packages (from sentence-transformers==2.2.2->-r requirements.txt (line 4)) (2.1.0)\n",
      "Requirement already satisfied: torchvision in /Users/lavesh/anaconda3/envs/invoicing/lib/python3.10/site-packages (from sentence-transformers==2.2.2->-r requirements.txt (line 4)) (0.16.0)\n",
      "Requirement already satisfied: scikit-learn in /Users/lavesh/anaconda3/envs/invoicing/lib/python3.10/site-packages (from sentence-transformers==2.2.2->-r requirements.txt (line 4)) (1.3.2)\n",
      "Requirement already satisfied: scipy in /Users/lavesh/anaconda3/envs/invoicing/lib/python3.10/site-packages (from sentence-transformers==2.2.2->-r requirements.txt (line 4)) (1.11.3)\n",
      "Requirement already satisfied: nltk in /Users/lavesh/anaconda3/envs/invoicing/lib/python3.10/site-packages (from sentence-transformers==2.2.2->-r requirements.txt (line 4)) (3.8.1)\n",
      "Requirement already satisfied: sentencepiece in /Users/lavesh/anaconda3/envs/invoicing/lib/python3.10/site-packages (from sentence-transformers==2.2.2->-r requirements.txt (line 4)) (0.1.99)\n",
      "Requirement already satisfied: huggingface-hub>=0.4.0 in /Users/lavesh/anaconda3/envs/invoicing/lib/python3.10/site-packages (from sentence-transformers==2.2.2->-r requirements.txt (line 4)) (0.17.3)\n",
      "Requirement already satisfied: distro<2,>=1.7.0 in /Users/lavesh/anaconda3/envs/invoicing/lib/python3.10/site-packages (from openai==1.2.2->-r requirements.txt (line 5)) (1.8.0)\n",
      "Requirement already satisfied: httpx<1,>=0.23.0 in /Users/lavesh/anaconda3/envs/invoicing/lib/python3.10/site-packages (from openai==1.2.2->-r requirements.txt (line 5)) (0.25.1)\n",
      "Requirement already satisfied: attrs>=17.3.0 in /Users/lavesh/anaconda3/envs/invoicing/lib/python3.10/site-packages (from aiohttp<4.0.0,>=3.8.3->langchain==0.0.333->-r requirements.txt (line 1)) (23.1.0)\n",
      "Requirement already satisfied: charset-normalizer<4.0,>=2.0 in /Users/lavesh/anaconda3/envs/invoicing/lib/python3.10/site-packages (from aiohttp<4.0.0,>=3.8.3->langchain==0.0.333->-r requirements.txt (line 1)) (3.3.2)\n",
      "Requirement already satisfied: multidict<7.0,>=4.5 in /Users/lavesh/anaconda3/envs/invoicing/lib/python3.10/site-packages (from aiohttp<4.0.0,>=3.8.3->langchain==0.0.333->-r requirements.txt (line 1)) (6.0.4)\n",
      "Requirement already satisfied: yarl<2.0,>=1.0 in /Users/lavesh/anaconda3/envs/invoicing/lib/python3.10/site-packages (from aiohttp<4.0.0,>=3.8.3->langchain==0.0.333->-r requirements.txt (line 1)) (1.9.2)\n",
      "Requirement already satisfied: frozenlist>=1.1.1 in /Users/lavesh/anaconda3/envs/invoicing/lib/python3.10/site-packages (from aiohttp<4.0.0,>=3.8.3->langchain==0.0.333->-r requirements.txt (line 1)) (1.4.0)\n",
      "Requirement already satisfied: aiosignal>=1.1.2 in /Users/lavesh/anaconda3/envs/invoicing/lib/python3.10/site-packages (from aiohttp<4.0.0,>=3.8.3->langchain==0.0.333->-r requirements.txt (line 1)) (1.3.1)\n",
      "Requirement already satisfied: idna>=2.8 in /Users/lavesh/anaconda3/envs/invoicing/lib/python3.10/site-packages (from anyio<4.0->langchain==0.0.333->-r requirements.txt (line 1)) (3.4)\n",
      "Requirement already satisfied: sniffio>=1.1 in /Users/lavesh/anaconda3/envs/invoicing/lib/python3.10/site-packages (from anyio<4.0->langchain==0.0.333->-r requirements.txt (line 1)) (1.3.0)\n",
      "Requirement already satisfied: exceptiongroup in /Users/lavesh/anaconda3/envs/invoicing/lib/python3.10/site-packages (from anyio<4.0->langchain==0.0.333->-r requirements.txt (line 1)) (1.1.3)\n",
      "Requirement already satisfied: marshmallow<4.0.0,>=3.18.0 in /Users/lavesh/anaconda3/envs/invoicing/lib/python3.10/site-packages (from dataclasses-json<0.7,>=0.5.7->langchain==0.0.333->-r requirements.txt (line 1)) (3.20.1)\n",
      "Requirement already satisfied: typing-inspect<1,>=0.4.0 in /Users/lavesh/anaconda3/envs/invoicing/lib/python3.10/site-packages (from dataclasses-json<0.7,>=0.5.7->langchain==0.0.333->-r requirements.txt (line 1)) (0.9.0)\n",
      "Requirement already satisfied: starlette<0.28.0,>=0.27.0 in /Users/lavesh/anaconda3/envs/invoicing/lib/python3.10/site-packages (from fastapi>=0.95.2->chromadb==0.4.16->-r requirements.txt (line 3)) (0.27.0)\n",
      "Requirement already satisfied: certifi in /Users/lavesh/anaconda3/envs/invoicing/lib/python3.10/site-packages (from httpx<1,>=0.23.0->openai==1.2.2->-r requirements.txt (line 5)) (2023.7.22)\n",
      "Requirement already satisfied: httpcore in /Users/lavesh/anaconda3/envs/invoicing/lib/python3.10/site-packages (from httpx<1,>=0.23.0->openai==1.2.2->-r requirements.txt (line 5)) (1.0.2)\n",
      "Requirement already satisfied: filelock in /Users/lavesh/anaconda3/envs/invoicing/lib/python3.10/site-packages (from huggingface-hub>=0.4.0->sentence-transformers==2.2.2->-r requirements.txt (line 4)) (3.13.1)\n",
      "Requirement already satisfied: fsspec in /Users/lavesh/anaconda3/envs/invoicing/lib/python3.10/site-packages (from huggingface-hub>=0.4.0->sentence-transformers==2.2.2->-r requirements.txt (line 4)) (2023.10.0)\n",
      "Requirement already satisfied: packaging>=20.9 in /Users/lavesh/anaconda3/envs/invoicing/lib/python3.10/site-packages (from huggingface-hub>=0.4.0->sentence-transformers==2.2.2->-r requirements.txt (line 4)) (23.2)\n",
      "Requirement already satisfied: jsonpointer>=1.9 in /Users/lavesh/anaconda3/envs/invoicing/lib/python3.10/site-packages (from jsonpatch<2.0,>=1.33->langchain==0.0.333->-r requirements.txt (line 1)) (2.4)\n",
      "Requirement already satisfied: six>=1.9.0 in /Users/lavesh/anaconda3/envs/invoicing/lib/python3.10/site-packages (from kubernetes>=28.1.0->chromadb==0.4.16->-r requirements.txt (line 3)) (1.16.0)\n",
      "Requirement already satisfied: python-dateutil>=2.5.3 in /Users/lavesh/anaconda3/envs/invoicing/lib/python3.10/site-packages (from kubernetes>=28.1.0->chromadb==0.4.16->-r requirements.txt (line 3)) (2.8.2)\n",
      "Requirement already satisfied: google-auth>=1.0.1 in /Users/lavesh/anaconda3/envs/invoicing/lib/python3.10/site-packages (from kubernetes>=28.1.0->chromadb==0.4.16->-r requirements.txt (line 3)) (2.23.4)\n",
      "Requirement already satisfied: websocket-client!=0.40.0,!=0.41.*,!=0.42.*,>=0.32.0 in /Users/lavesh/anaconda3/envs/invoicing/lib/python3.10/site-packages (from kubernetes>=28.1.0->chromadb==0.4.16->-r requirements.txt (line 3)) (1.6.4)\n",
      "Requirement already satisfied: requests-oauthlib in /Users/lavesh/anaconda3/envs/invoicing/lib/python3.10/site-packages (from kubernetes>=28.1.0->chromadb==0.4.16->-r requirements.txt (line 3)) (1.3.1)\n",
      "Requirement already satisfied: oauthlib>=3.2.2 in /Users/lavesh/anaconda3/envs/invoicing/lib/python3.10/site-packages (from kubernetes>=28.1.0->chromadb==0.4.16->-r requirements.txt (line 3)) (3.2.2)\n",
      "Requirement already satisfied: urllib3<2.0,>=1.24.2 in /Users/lavesh/anaconda3/envs/invoicing/lib/python3.10/site-packages (from kubernetes>=28.1.0->chromadb==0.4.16->-r requirements.txt (line 3)) (1.26.18)\n",
      "Requirement already satisfied: coloredlogs in /Users/lavesh/anaconda3/envs/invoicing/lib/python3.10/site-packages (from onnxruntime>=1.14.1->chromadb==0.4.16->-r requirements.txt (line 3)) (15.0.1)\n",
      "Requirement already satisfied: flatbuffers in /Users/lavesh/anaconda3/envs/invoicing/lib/python3.10/site-packages (from onnxruntime>=1.14.1->chromadb==0.4.16->-r requirements.txt (line 3)) (23.5.26)\n",
      "Requirement already satisfied: protobuf in /Users/lavesh/anaconda3/envs/invoicing/lib/python3.10/site-packages (from onnxruntime>=1.14.1->chromadb==0.4.16->-r requirements.txt (line 3)) (4.25.0)\n",
      "Requirement already satisfied: sympy in /Users/lavesh/anaconda3/envs/invoicing/lib/python3.10/site-packages (from onnxruntime>=1.14.1->chromadb==0.4.16->-r requirements.txt (line 3)) (1.12)\n",
      "Requirement already satisfied: deprecated>=1.2.6 in /Users/lavesh/anaconda3/envs/invoicing/lib/python3.10/site-packages (from opentelemetry-api>=1.2.0->chromadb==0.4.16->-r requirements.txt (line 3)) (1.2.14)\n",
      "Requirement already satisfied: importlib-metadata<7.0,>=6.0 in /Users/lavesh/anaconda3/envs/invoicing/lib/python3.10/site-packages (from opentelemetry-api>=1.2.0->chromadb==0.4.16->-r requirements.txt (line 3)) (6.8.0)\n",
      "Requirement already satisfied: backoff<3.0.0,>=1.10.0 in /Users/lavesh/anaconda3/envs/invoicing/lib/python3.10/site-packages (from opentelemetry-exporter-otlp-proto-grpc>=1.2.0->chromadb==0.4.16->-r requirements.txt (line 3)) (2.2.1)\n",
      "Requirement already satisfied: googleapis-common-protos~=1.52 in /Users/lavesh/anaconda3/envs/invoicing/lib/python3.10/site-packages (from opentelemetry-exporter-otlp-proto-grpc>=1.2.0->chromadb==0.4.16->-r requirements.txt (line 3)) (1.61.0)\n",
      "Requirement already satisfied: opentelemetry-exporter-otlp-proto-common==1.21.0 in /Users/lavesh/anaconda3/envs/invoicing/lib/python3.10/site-packages (from opentelemetry-exporter-otlp-proto-grpc>=1.2.0->chromadb==0.4.16->-r requirements.txt (line 3)) (1.21.0)\n",
      "Requirement already satisfied: opentelemetry-proto==1.21.0 in /Users/lavesh/anaconda3/envs/invoicing/lib/python3.10/site-packages (from opentelemetry-exporter-otlp-proto-grpc>=1.2.0->chromadb==0.4.16->-r requirements.txt (line 3)) (1.21.0)\n",
      "Requirement already satisfied: opentelemetry-semantic-conventions==0.42b0 in /Users/lavesh/anaconda3/envs/invoicing/lib/python3.10/site-packages (from opentelemetry-sdk>=1.2.0->chromadb==0.4.16->-r requirements.txt (line 3)) (0.42b0)\n",
      "Requirement already satisfied: monotonic>=1.5 in /Users/lavesh/anaconda3/envs/invoicing/lib/python3.10/site-packages (from posthog>=2.4.0->chromadb==0.4.16->-r requirements.txt (line 3)) (1.6)\n",
      "Requirement already satisfied: annotated-types>=0.4.0 in /Users/lavesh/anaconda3/envs/invoicing/lib/python3.10/site-packages (from pydantic<3,>=1->langchain==0.0.333->-r requirements.txt (line 1)) (0.6.0)\n",
      "Requirement already satisfied: pydantic-core==2.10.1 in /Users/lavesh/anaconda3/envs/invoicing/lib/python3.10/site-packages (from pydantic<3,>=1->langchain==0.0.333->-r requirements.txt (line 1)) (2.10.1)\n",
      "Requirement already satisfied: networkx in /Users/lavesh/anaconda3/envs/invoicing/lib/python3.10/site-packages (from torch>=1.6.0->sentence-transformers==2.2.2->-r requirements.txt (line 4)) (3.2.1)\n",
      "Requirement already satisfied: jinja2 in /Users/lavesh/anaconda3/envs/invoicing/lib/python3.10/site-packages (from torch>=1.6.0->sentence-transformers==2.2.2->-r requirements.txt (line 4)) (3.1.2)\n",
      "Requirement already satisfied: regex!=2019.12.17 in /Users/lavesh/anaconda3/envs/invoicing/lib/python3.10/site-packages (from transformers<5.0.0,>=4.6.0->sentence-transformers==2.2.2->-r requirements.txt (line 4)) (2023.10.3)\n",
      "Requirement already satisfied: safetensors>=0.3.1 in /Users/lavesh/anaconda3/envs/invoicing/lib/python3.10/site-packages (from transformers<5.0.0,>=4.6.0->sentence-transformers==2.2.2->-r requirements.txt (line 4)) (0.4.0)\n",
      "Requirement already satisfied: click<9.0.0,>=7.1.1 in /Users/lavesh/anaconda3/envs/invoicing/lib/python3.10/site-packages (from typer>=0.9.0->chromadb==0.4.16->-r requirements.txt (line 3)) (8.1.7)\n",
      "Requirement already satisfied: h11>=0.8 in /Users/lavesh/anaconda3/envs/invoicing/lib/python3.10/site-packages (from uvicorn>=0.18.3->uvicorn[standard]>=0.18.3->chromadb==0.4.16->-r requirements.txt (line 3)) (0.14.0)\n",
      "Requirement already satisfied: httptools>=0.5.0 in /Users/lavesh/anaconda3/envs/invoicing/lib/python3.10/site-packages (from uvicorn[standard]>=0.18.3->chromadb==0.4.16->-r requirements.txt (line 3)) (0.6.1)\n",
      "Requirement already satisfied: uvloop!=0.15.0,!=0.15.1,>=0.14.0 in /Users/lavesh/anaconda3/envs/invoicing/lib/python3.10/site-packages (from uvicorn[standard]>=0.18.3->chromadb==0.4.16->-r requirements.txt (line 3)) (0.19.0)\n",
      "Requirement already satisfied: watchfiles>=0.13 in /Users/lavesh/anaconda3/envs/invoicing/lib/python3.10/site-packages (from uvicorn[standard]>=0.18.3->chromadb==0.4.16->-r requirements.txt (line 3)) (0.21.0)\n",
      "Requirement already satisfied: websockets>=10.4 in /Users/lavesh/anaconda3/envs/invoicing/lib/python3.10/site-packages (from uvicorn[standard]>=0.18.3->chromadb==0.4.16->-r requirements.txt (line 3)) (12.0)\n",
      "Requirement already satisfied: joblib in /Users/lavesh/anaconda3/envs/invoicing/lib/python3.10/site-packages (from nltk->sentence-transformers==2.2.2->-r requirements.txt (line 4)) (1.3.2)\n",
      "Requirement already satisfied: threadpoolctl>=2.0.0 in /Users/lavesh/anaconda3/envs/invoicing/lib/python3.10/site-packages (from scikit-learn->sentence-transformers==2.2.2->-r requirements.txt (line 4)) (3.2.0)\n",
      "Requirement already satisfied: pillow!=8.3.*,>=5.3.0 in /Users/lavesh/anaconda3/envs/invoicing/lib/python3.10/site-packages (from torchvision->sentence-transformers==2.2.2->-r requirements.txt (line 4)) (10.1.0)\n",
      "Requirement already satisfied: wrapt<2,>=1.10 in /Users/lavesh/anaconda3/envs/invoicing/lib/python3.10/site-packages (from deprecated>=1.2.6->opentelemetry-api>=1.2.0->chromadb==0.4.16->-r requirements.txt (line 3)) (1.16.0)\n",
      "Requirement already satisfied: cachetools<6.0,>=2.0.0 in /Users/lavesh/anaconda3/envs/invoicing/lib/python3.10/site-packages (from google-auth>=1.0.1->kubernetes>=28.1.0->chromadb==0.4.16->-r requirements.txt (line 3)) (5.3.2)\n",
      "Requirement already satisfied: pyasn1-modules>=0.2.1 in /Users/lavesh/anaconda3/envs/invoicing/lib/python3.10/site-packages (from google-auth>=1.0.1->kubernetes>=28.1.0->chromadb==0.4.16->-r requirements.txt (line 3)) (0.3.0)\n",
      "Requirement already satisfied: rsa<5,>=3.1.4 in /Users/lavesh/anaconda3/envs/invoicing/lib/python3.10/site-packages (from google-auth>=1.0.1->kubernetes>=28.1.0->chromadb==0.4.16->-r requirements.txt (line 3)) (4.9)\n",
      "Requirement already satisfied: zipp>=0.5 in /Users/lavesh/anaconda3/envs/invoicing/lib/python3.10/site-packages (from importlib-metadata<7.0,>=6.0->opentelemetry-api>=1.2.0->chromadb==0.4.16->-r requirements.txt (line 3)) (3.17.0)\n",
      "Requirement already satisfied: mypy-extensions>=0.3.0 in /Users/lavesh/anaconda3/envs/invoicing/lib/python3.10/site-packages (from typing-inspect<1,>=0.4.0->dataclasses-json<0.7,>=0.5.7->langchain==0.0.333->-r requirements.txt (line 1)) (1.0.0)\n",
      "Requirement already satisfied: humanfriendly>=9.1 in /Users/lavesh/anaconda3/envs/invoicing/lib/python3.10/site-packages (from coloredlogs->onnxruntime>=1.14.1->chromadb==0.4.16->-r requirements.txt (line 3)) (10.0)\n",
      "Requirement already satisfied: MarkupSafe>=2.0 in /Users/lavesh/anaconda3/envs/invoicing/lib/python3.10/site-packages (from jinja2->torch>=1.6.0->sentence-transformers==2.2.2->-r requirements.txt (line 4)) (2.1.3)\n",
      "Requirement already satisfied: mpmath>=0.19 in /Users/lavesh/anaconda3/envs/invoicing/lib/python3.10/site-packages (from sympy->onnxruntime>=1.14.1->chromadb==0.4.16->-r requirements.txt (line 3)) (1.3.0)\n",
      "Requirement already satisfied: pyasn1<0.6.0,>=0.4.6 in /Users/lavesh/anaconda3/envs/invoicing/lib/python3.10/site-packages (from pyasn1-modules>=0.2.1->google-auth>=1.0.1->kubernetes>=28.1.0->chromadb==0.4.16->-r requirements.txt (line 3)) (0.5.0)\n",
      "Note: you may need to restart the kernel to use updated packages.\n"
     ]
    }
   ],
   "source": [
    "%pip install -r requirements.txt"
   ]
  },
  {
   "cell_type": "code",
   "execution_count": 2,
   "metadata": {},
   "outputs": [
    {
     "name": "stdout",
     "output_type": "stream",
     "text": [
      "cannot find .env file\n"
     ]
    }
   ],
   "source": [
    "%load_ext dotenv\n",
    "%dotenv"
   ]
  },
  {
   "cell_type": "code",
   "execution_count": 32,
   "metadata": {},
   "outputs": [],
   "source": [
    "from langchain.document_loaders import PyPDFDirectoryLoader\n",
    "\n",
    "loader = PyPDFDirectoryLoader(\"/Users/lavesh/Downloads/Invoices 2021\")"
   ]
  },
  {
   "cell_type": "code",
   "execution_count": 34,
   "metadata": {},
   "outputs": [
    {
     "name": "stderr",
     "output_type": "stream",
     "text": [
      "Object 4 0 found\n",
      "Object 2 0 found\n"
     ]
    }
   ],
   "source": [
    "raw_documents = loader.load()"
   ]
  },
  {
   "cell_type": "code",
   "execution_count": 35,
   "metadata": {},
   "outputs": [],
   "source": [
    "from langchain.text_splitter import RecursiveCharacterTextSplitter"
   ]
  },
  {
   "cell_type": "code",
   "execution_count": 36,
   "metadata": {},
   "outputs": [],
   "source": [
    "text_splitter = RecursiveCharacterTextSplitter(\n",
    "    chunk_size = 200,\n",
    "    chunk_overlap  = 50\n",
    ")"
   ]
  },
  {
   "cell_type": "code",
   "execution_count": 37,
   "metadata": {},
   "outputs": [],
   "source": [
    "documents = text_splitter.split_documents(raw_documents)"
   ]
  },
  {
   "cell_type": "code",
   "execution_count": 38,
   "metadata": {},
   "outputs": [],
   "source": [
    "from langchain.embeddings import SentenceTransformerEmbeddings\n",
    "\n",
    "embeddings = SentenceTransformerEmbeddings(model_name=\"all-MiniLM-L6-v2\")"
   ]
  },
  {
   "cell_type": "code",
   "execution_count": 39,
   "metadata": {},
   "outputs": [],
   "source": [
    "from langchain.vectorstores import Chroma\n",
    "\n",
    "db = Chroma.from_documents(documents, embeddings)"
   ]
  },
  {
   "cell_type": "code",
   "execution_count": 40,
   "metadata": {},
   "outputs": [],
   "source": [
    "retriever = db.as_retriever(\n",
    "    search_type=\"mmr\",  # Also test \"similarity\"\n",
    "    search_kwargs={\"k\": 8},\n",
    ")"
   ]
  },
  {
   "cell_type": "code",
   "execution_count": 57,
   "metadata": {},
   "outputs": [],
   "source": [
    "from langchain.chat_models import ChatOpenAI\n",
    "from langchain.memory import ConversationSummaryMemory\n",
    "from langchain.chains import ConversationalRetrievalChain\n",
    "\n",
    "llm = ChatOpenAI(model_name=\"gpt-3.5-turbo\")\n",
    "memory = ConversationSummaryMemory(\n",
    "    llm=llm, memory_key=\"chat_history\", return_messages=True\n",
    ")\n",
    "qa = ConversationalRetrievalChain.from_llm(llm, retriever=retriever, memory=memory)"
   ]
  },
  {
   "cell_type": "code",
   "execution_count": 58,
   "metadata": {},
   "outputs": [],
   "source": [
    "import os\n",
    "os.environ[\"TOKENIZERS_PARALLELISM\"] = \"false\""
   ]
  },
  {
   "cell_type": "code",
   "execution_count": 59,
   "metadata": {},
   "outputs": [
    {
     "name": "stdout",
     "output_type": "stream",
     "text": [
      "-> *Question*: Where is SYSCOM located in? \n",
      "\n",
      "*Answer*: The location of SYSCOM is not provided in the given context. \n",
      "\n"
     ]
    }
   ],
   "source": [
    "questions = [\n",
    "    # \"Which city is KCA Event Management In?\",\n",
    "    # \"What is the price of PCR Test?\",\n",
    "    # \"What are the bank details of High Caliber?\"\n",
    "    # \"What is the hourly cost for a promotion?\",\n",
    "    # \"What is the transportation cost to Yas Island?\",\n",
    "    \"Where is SYSCOM located in?\"\n",
    "]\n",
    "\n",
    "for question in questions:\n",
    "    result = qa(question)\n",
    "    print(f\"-> *Question*: {question} \\n\")\n",
    "    print(f\"*Answer*: {result['answer']} \\n\")"
   ]
  }
 ],
 "metadata": {
  "kernelspec": {
   "display_name": "invoicing",
   "language": "python",
   "name": "python3"
  },
  "language_info": {
   "codemirror_mode": {
    "name": "ipython",
    "version": 3
   },
   "file_extension": ".py",
   "mimetype": "text/x-python",
   "name": "python",
   "nbconvert_exporter": "python",
   "pygments_lexer": "ipython3",
   "version": "3.10.13"
  }
 },
 "nbformat": 4,
 "nbformat_minor": 2
}
